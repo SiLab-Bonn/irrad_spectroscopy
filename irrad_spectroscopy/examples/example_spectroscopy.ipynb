{
 "cells": [
  {
   "cell_type": "markdown",
   "metadata": {},
   "source": [
    "# Gamma spectroscopy (of irradiated samples at HISKP Bonn cyclotron)\n",
    "This notebook contains a step-by-step procedure on how to get the activity of each isotope in an irradiated sample.\n",
    "  \n",
    "  - For a given detector the following spectra have to be recorded with the **same setup / fixed geometry** :\n",
    "  \n",
    "    1. Spectrum of the irradiated sample \n",
    "    2. Spectrum of peaks with well-known energies for an **energy calibration** \n",
    "    3. Spectrum of a calibrated source with well-known activity for an **efficiency calibration**\n",
    "    \n",
    "    Spectra 2 & 3 can be the same spectrum if the activity-calibrated source has enough lines e.g. 152Eu. For a change in the detector setup, *each of the above spectra must be measured again*.\n",
    "    \n",
    "\n",
    "  - The spectroscopy is performed by the following steps :\n",
    "  \n",
    "    1. Fitting the peaks of well-known energy and do an **energy calibration**\n",
    "    2. Fitting peaks of well-known activity of a calibrated source and do an **efficiency calibration** \n",
    "    3. Fitting the energy-calibrated spectrum of the irradiated sample in order to identify the prominent peaks:\n",
    "      - Fit spectrum and try finding isotopes from an isotope library file\n",
    "      - Identify remaining isotopes\n",
    "      - Use efficiency calibration to determine actual activity from integrated counts for each identified isotope"
   ]
  },
  {
   "cell_type": "code",
   "execution_count": null,
   "metadata": {},
   "outputs": [],
   "source": [
    "# imports\n",
    "import os\n",
    "import yaml\n",
    "import logging\n",
    "import numpy as np  # c-like, vectorized arrays\n",
    "import irrad_spectroscopy as isp\n",
    "import irrad_spectroscopy.spectroscopy as sp  # import main spectroscopy methods\n",
    "import matplotlib # plotting library\n",
    "matplotlib.use('qt5agg')  # set plotting backend\n",
    "import matplotlib.pyplot as plt  # shortcut to plotting functions\n",
    "from collections import OrderedDict  # dict with chronological key order\n",
    "\n",
    "# import general utils\n",
    "from irrad_spectroscopy.spec_utils import get_measurement_time, get_isotope_info, source_to_dict, select_peaks\n",
    "\n",
    "# plotting\n",
    "from irrad_spectroscopy.plot_utils import plot_spectrum\n",
    "\n",
    "# interactive plotting\n",
    "%matplotlib notebook\n",
    "\n",
    "# figsize\n",
    "plt.rcParams['figure.figsize'] = [9.5, 5.5]"
   ]
  },
  {
   "cell_type": "markdown",
   "metadata": {},
   "source": [
    "# Set paths and load files\n",
    "Define locations and files. Give the names of each required file as they are named in their respective location. **All recorded spectra are expected to be in a `.txt` file and the meta data in a `.mcd` file with the same name.**"
   ]
  },
  {
   "cell_type": "code",
   "execution_count": null,
   "metadata": {},
   "outputs": [],
   "source": [
    "# name\n",
    "SAMPLE_NAME = 'example_sample'\n",
    "\n",
    "# paths\n",
    "package_path = isp.package_path\n",
    "\n",
    "example_path = os.path.join(package_path, 'examples')\n",
    "\n",
    "data_path = os.path.join(example_path, 'example_data')\n",
    "\n",
    "# Create output subfolder where all output data and plots are stored\n",
    "output_path = os.path.join(example_path, 'output')\n",
    "if not os.path.exists(output_path):\n",
    "    os.makedirs(output_path)\n",
    "\n",
    "# load files, all have leading _\n",
    "try:\n",
    "    _spectrum_sample = np.loadtxt(os.path.join(data_path, 'example_sample.txt'), unpack=True)\n",
    "    \n",
    "    _spectrum_bkg = np.loadtxt(os.path.join(data_path, 'background.txt'), unpack=True)\n",
    "\n",
    "    _t_sample = get_measurement_time(os.path.join(data_path, 'example_sample.txt'))\n",
    "    \n",
    "    _t_bkg = get_measurement_time(os.path.join(data_path, 'background.txt'))\n",
    "\n",
    "    _spectrum_energy_calibration = np.loadtxt(os.path.join(data_path, 'Eu152_point.txt'), unpack=True)\n",
    "    \n",
    "    # use same spectrum for energy and efficiency calibration; 152Eu spectrum\n",
    "    _spectrum_efficiency_calibration = _spectrum_energy_calibration\n",
    "    \n",
    "    with open(os.path.join(data_path, '152Eu_peaks.yaml'), 'r') as energy_peaks:\n",
    "        _peaks_energy_calibration = yaml.safe_load(energy_peaks)\n",
    "        \n",
    "    with open(os.path.join(data_path, 'background_peaks.yaml'), 'r') as background_peaks:\n",
    "        _peaks_bkg = yaml.safe_load(background_peaks)\n",
    "        \n",
    "    with open(os.path.join(data_path, '152Eu_point_source.yaml'), 'r') as source_specs:\n",
    "        _calibrated_source_specs = yaml.safe_load(source_specs)\n",
    "\n",
    "except IOError:\n",
    "    logging.exception('Failed to load some of the data!')"
   ]
  },
  {
   "cell_type": "markdown",
   "metadata": {},
   "source": [
    "# Energy calibration with well-known spectrum\n",
    "Fit well-known spectrum and make a calibration from fitted channel numbers and known peak energies. "
   ]
  },
  {
   "cell_type": "code",
   "execution_count": null,
   "metadata": {
    "scrolled": false
   },
   "outputs": [],
   "source": [
    "# fit peaks for energy calibration\n",
    "peaks_energy_cal, bkg_energy_cal = sp.fit_spectrum(counts=_spectrum_energy_calibration[1],\n",
    "                                                   expected_peaks=_peaks_energy_calibration['channel'])\n",
    "# do energy_calibration\n",
    "energy_calibration = sp.do_energy_calibration(peaks_energy_cal, _peaks_energy_calibration['energy'])\n",
    "# plot everything\n",
    "plot_spectrum(counts=_spectrum_energy_calibration[1],\n",
    "              peaks=peaks_energy_cal,\n",
    "              bkg=bkg_energy_cal,\n",
    "              plot_calib=energy_calibration,\n",
    "              title='Energy calibration',\n",
    "              output_plot=os.path.join(output_path, '%s_energy_calibration.pdf' % SAMPLE_NAME))"
   ]
  },
  {
   "cell_type": "markdown",
   "metadata": {},
   "source": [
    "# Efficiency calibration of detector with calibrated source\n",
    "Determination by comparing calibrated activity with integrated counts in spectrum. The current acitivity of the source is calculated by the time passed between the date of the calibration and date of measurement which can be accessed by the keys `datetime_calibration` and `datetime_measurement` of the `_calibrated_source_specs` dictionary."
   ]
  },
  {
   "cell_type": "code",
   "execution_count": null,
   "metadata": {
    "scrolled": false
   },
   "outputs": [],
   "source": [
    "# fit peaks for efficiency calibration\n",
    "peaks_efficiency_cal, bkg_efficiency_cal = sp.fit_spectrum(counts=_spectrum_efficiency_calibration[1],\n",
    "                                                           energy_cal=energy_calibration['func'],\n",
    "                                                           expected_peaks=source_to_dict(_calibrated_source_specs))\n",
    "# do energy_calibration\n",
    "efficiency_calibration = sp.do_efficiency_calibration(observed_peaks=peaks_efficiency_cal,\n",
    "                                                      source_specs=_calibrated_source_specs)\n",
    "# plot everything\n",
    "plot_spectrum(counts=_spectrum_efficiency_calibration[1],\n",
    "              peaks=peaks_efficiency_cal,\n",
    "              bkg=bkg_efficiency_cal,\n",
    "              energy_cal=energy_calibration['func'],\n",
    "              plot_calib=efficiency_calibration,\n",
    "              title='Efficiency calibration',\n",
    "              output_plot=os.path.join(output_path, '%s_efficiency_calibration.pdf' % SAMPLE_NAME))"
   ]
  },
  {
   "cell_type": "markdown",
   "metadata": {},
   "source": [
    "# Identify peaks in sample spectrum\n",
    "\n",
    "  - Optionally compare background peaks to sample peaks in order to identify sample peaks / growth of background\n",
    "  - Optionally subtract background from sample spectrum \n",
    "  - Optionally fit global background in spectrum with energy calibration\n",
    "  - Try fitting all peaks from the isotope library as expected peaks in spectrum with energy calibration\n",
    "  - Fit additional n_peaks peaks which have not been identified from the isotope library\n",
    "    - Identify peaks with help of http://nucleardata.nuclear.lu.se/toi/radSearch.asp data bank, the isotope table PDF in `static` and http://www.oecd-nea.org/janisweb/ cross sections"
   ]
  },
  {
   "cell_type": "code",
   "execution_count": null,
   "metadata": {
    "scrolled": false
   },
   "outputs": [],
   "source": [
    "# checking all peaks from library and background first\n",
    "peaks_sample, bkg_sample = sp.fit_spectrum(counts=_spectrum_sample[1],\n",
    "                                           energy_cal=energy_calibration['func'],\n",
    "                                           efficiency_cal=efficiency_calibration['func'],\n",
    "                                           t_spec=_t_sample,\n",
    "                                           expected_accuracy=energy_calibration['accuracy'])\n",
    "# plot everything\n",
    "plot_spectrum(counts=_spectrum_sample[1],\n",
    "              peaks=peaks_sample,\n",
    "              bkg=bkg_sample,\n",
    "              energy_cal=energy_calibration['func'],\n",
    "              title='Gamma spectrum of sample',\n",
    "              output_plot=os.path.join(output_path, '%s_sample_spectrum.pdf' % SAMPLE_NAME))\n",
    "\n",
    "# plot backgroud and check which lines are unique to the sample\n",
    "plt.plot(energy_calibration['func'](_spectrum_bkg[0]), _spectrum_bkg[1], label='Background spectrum')\n",
    "_ = plt.legend()"
   ]
  },
  {
   "cell_type": "markdown",
   "metadata": {},
   "source": [
    "# Isotope selection\n",
    "Select the isotopes which are unique to the spectrum of the sample"
   ]
  },
  {
   "cell_type": "code",
   "execution_count": null,
   "metadata": {},
   "outputs": [],
   "source": [
    "# select the isotopes unique to the sample\n",
    "selected_peaks = select_peaks(selection=['65_Zn', '48_V', '7_Be'], peaks=peaks_sample)"
   ]
  },
  {
   "cell_type": "markdown",
   "metadata": {},
   "source": [
    "# Activity determination\n",
    "Summing the probability of each peak as well as the activity to calculate the summed and scaled to 100% activity for each isotope"
   ]
  },
  {
   "cell_type": "code",
   "execution_count": null,
   "metadata": {},
   "outputs": [],
   "source": [
    "sample_activities = sp.get_activity(selected_peaks)\n",
    "for s in sample_activities:\n",
    "    print('{}:\\t({}+-{}) Bq'.format(s, sample_activities[s]['nominal'], sample_activities[s]['sigma']))"
   ]
  },
  {
   "cell_type": "markdown",
   "metadata": {},
   "source": [
    "# Dose calculation\n",
    "Calculates the dose in uSv or dose rate in uSv/h isotope-wise and the summed total dose of the all isotopes e.g. the sample"
   ]
  },
  {
   "cell_type": "code",
   "execution_count": null,
   "metadata": {},
   "outputs": [],
   "source": [
    "sample_doses = sp.get_dose(selected_peaks, distance=50, time=2000, material='air')\n",
    "print('({}+-{}) {}'.format(sample_doses['nominal'], sample_doses['sigma'], sample_doses['unit']))"
   ]
  }
 ],
 "metadata": {
  "kernelspec": {
   "display_name": "Python 2",
   "language": "python",
   "name": "python2"
  },
  "language_info": {
   "codemirror_mode": {
    "name": "ipython",
    "version": 2
   },
   "file_extension": ".py",
   "mimetype": "text/x-python",
   "name": "python",
   "nbconvert_exporter": "python",
   "pygments_lexer": "ipython2",
   "version": "2.7.15"
  }
 },
 "nbformat": 4,
 "nbformat_minor": 1
}
